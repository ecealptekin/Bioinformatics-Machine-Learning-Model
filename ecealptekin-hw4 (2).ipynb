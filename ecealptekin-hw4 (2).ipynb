{
 "cells": [
  {
   "cell_type": "markdown",
   "metadata": {},
   "source": [
    "<h1>Ece Alptekin</h1>\n",
    "<h1>24156</h1>"
   ]
  },
  {
   "cell_type": "code",
   "execution_count": 1,
   "metadata": {},
   "outputs": [],
   "source": [
    "import pandas as pd\n",
    "import numpy as np"
   ]
  },
  {
   "cell_type": "markdown",
   "metadata": {},
   "source": [
    "<h2>Import data</h2>"
   ]
  },
  {
   "cell_type": "code",
   "execution_count": 2,
   "metadata": {},
   "outputs": [
    {
     "data": {
      "text/html": [
       "<div>\n",
       "<style scoped>\n",
       "    .dataframe tbody tr th:only-of-type {\n",
       "        vertical-align: middle;\n",
       "    }\n",
       "\n",
       "    .dataframe tbody tr th {\n",
       "        vertical-align: top;\n",
       "    }\n",
       "\n",
       "    .dataframe thead th {\n",
       "        text-align: right;\n",
       "    }\n",
       "</style>\n",
       "<table border=\"1\" class=\"dataframe\">\n",
       "  <thead>\n",
       "    <tr style=\"text-align: right;\">\n",
       "      <th></th>\n",
       "      <th>#ID</th>\n",
       "      <th>ORF-integrity</th>\n",
       "      <th>ORF-coverage</th>\n",
       "      <th>Instability</th>\n",
       "      <th>T2</th>\n",
       "      <th>C0</th>\n",
       "      <th>PI</th>\n",
       "      <th>ORF-length</th>\n",
       "      <th>AC</th>\n",
       "      <th>T0</th>\n",
       "      <th>...</th>\n",
       "      <th>C4</th>\n",
       "      <th>AG</th>\n",
       "      <th>Fickett</th>\n",
       "      <th>A2</th>\n",
       "      <th>T4</th>\n",
       "      <th>C</th>\n",
       "      <th>G</th>\n",
       "      <th>A</th>\n",
       "      <th>T</th>\n",
       "      <th>label</th>\n",
       "    </tr>\n",
       "  </thead>\n",
       "  <tbody>\n",
       "    <tr>\n",
       "      <th>0</th>\n",
       "      <td>0.162071</td>\n",
       "      <td>1.0</td>\n",
       "      <td>0.114583</td>\n",
       "      <td>56.694764</td>\n",
       "      <td>576.0</td>\n",
       "      <td>0.000281</td>\n",
       "      <td>0.5279</td>\n",
       "      <td>0.369828</td>\n",
       "      <td>0.700535</td>\n",
       "      <td>7.877136</td>\n",
       "      <td>...</td>\n",
       "      <td>0.993808</td>\n",
       "      <td>0.995215</td>\n",
       "      <td>-0.704188</td>\n",
       "      <td>0.613566</td>\n",
       "      <td>0.152590</td>\n",
       "      <td>0.107545</td>\n",
       "      <td>0.353223</td>\n",
       "      <td>0.247959</td>\n",
       "      <td>0.244019</td>\n",
       "      <td>1</td>\n",
       "    </tr>\n",
       "    <tr>\n",
       "      <th>1</th>\n",
       "      <td>0.431156</td>\n",
       "      <td>1.0</td>\n",
       "      <td>0.086155</td>\n",
       "      <td>41.790444</td>\n",
       "      <td>1287.0</td>\n",
       "      <td>0.002011</td>\n",
       "      <td>0.5395</td>\n",
       "      <td>0.471515</td>\n",
       "      <td>0.717828</td>\n",
       "      <td>8.553284</td>\n",
       "      <td>...</td>\n",
       "      <td>0.997654</td>\n",
       "      <td>0.998324</td>\n",
       "      <td>0.368458</td>\n",
       "      <td>0.520107</td>\n",
       "      <td>0.115320</td>\n",
       "      <td>0.088166</td>\n",
       "      <td>0.232239</td>\n",
       "      <td>0.210456</td>\n",
       "      <td>0.262064</td>\n",
       "      <td>1</td>\n",
       "    </tr>\n",
       "    <tr>\n",
       "      <th>2</th>\n",
       "      <td>0.874798</td>\n",
       "      <td>1.0</td>\n",
       "      <td>0.081715</td>\n",
       "      <td>40.573639</td>\n",
       "      <td>1083.0</td>\n",
       "      <td>0.004850</td>\n",
       "      <td>0.9489</td>\n",
       "      <td>0.427648</td>\n",
       "      <td>0.752627</td>\n",
       "      <td>8.643616</td>\n",
       "      <td>...</td>\n",
       "      <td>0.995150</td>\n",
       "      <td>0.988682</td>\n",
       "      <td>0.496667</td>\n",
       "      <td>0.482619</td>\n",
       "      <td>0.100324</td>\n",
       "      <td>0.111650</td>\n",
       "      <td>0.243331</td>\n",
       "      <td>0.219887</td>\n",
       "      <td>0.247373</td>\n",
       "      <td>1</td>\n",
       "    </tr>\n",
       "    <tr>\n",
       "      <th>3</th>\n",
       "      <td>0.853372</td>\n",
       "      <td>1.0</td>\n",
       "      <td>0.081498</td>\n",
       "      <td>41.800543</td>\n",
       "      <td>1164.0</td>\n",
       "      <td>0.004402</td>\n",
       "      <td>0.9297</td>\n",
       "      <td>0.468819</td>\n",
       "      <td>0.765957</td>\n",
       "      <td>8.255188</td>\n",
       "      <td>...</td>\n",
       "      <td>1.000000</td>\n",
       "      <td>0.994864</td>\n",
       "      <td>0.393540</td>\n",
       "      <td>0.442406</td>\n",
       "      <td>0.110866</td>\n",
       "      <td>0.107930</td>\n",
       "      <td>0.222304</td>\n",
       "      <td>0.225238</td>\n",
       "      <td>0.256787</td>\n",
       "      <td>1</td>\n",
       "    </tr>\n",
       "    <tr>\n",
       "      <th>4</th>\n",
       "      <td>0.789583</td>\n",
       "      <td>1.0</td>\n",
       "      <td>0.080668</td>\n",
       "      <td>42.827804</td>\n",
       "      <td>1137.0</td>\n",
       "      <td>0.004170</td>\n",
       "      <td>0.8437</td>\n",
       "      <td>0.468381</td>\n",
       "      <td>0.762335</td>\n",
       "      <td>8.588196</td>\n",
       "      <td>...</td>\n",
       "      <td>1.000000</td>\n",
       "      <td>0.995136</td>\n",
       "      <td>0.525661</td>\n",
       "      <td>0.455177</td>\n",
       "      <td>0.109179</td>\n",
       "      <td>0.104312</td>\n",
       "      <td>0.223767</td>\n",
       "      <td>0.220987</td>\n",
       "      <td>0.261293</td>\n",
       "      <td>1</td>\n",
       "    </tr>\n",
       "    <tr>\n",
       "      <th>...</th>\n",
       "      <td>...</td>\n",
       "      <td>...</td>\n",
       "      <td>...</td>\n",
       "      <td>...</td>\n",
       "      <td>...</td>\n",
       "      <td>...</td>\n",
       "      <td>...</td>\n",
       "      <td>...</td>\n",
       "      <td>...</td>\n",
       "      <td>...</td>\n",
       "      <td>...</td>\n",
       "      <td>...</td>\n",
       "      <td>...</td>\n",
       "      <td>...</td>\n",
       "      <td>...</td>\n",
       "      <td>...</td>\n",
       "      <td>...</td>\n",
       "      <td>...</td>\n",
       "      <td>...</td>\n",
       "      <td>...</td>\n",
       "      <td>...</td>\n",
       "    </tr>\n",
       "    <tr>\n",
       "      <th>57518</th>\n",
       "      <td>0.000000</td>\n",
       "      <td>0.0</td>\n",
       "      <td>0.064516</td>\n",
       "      <td>0.000000</td>\n",
       "      <td>0.0</td>\n",
       "      <td>0.042553</td>\n",
       "      <td>0.7840</td>\n",
       "      <td>0.585106</td>\n",
       "      <td>0.765957</td>\n",
       "      <td>0.000000</td>\n",
       "      <td>...</td>\n",
       "      <td>0.925532</td>\n",
       "      <td>0.957447</td>\n",
       "      <td>0.000000</td>\n",
       "      <td>0.457447</td>\n",
       "      <td>0.064516</td>\n",
       "      <td>0.086022</td>\n",
       "      <td>0.255319</td>\n",
       "      <td>0.138298</td>\n",
       "      <td>0.255319</td>\n",
       "      <td>0</td>\n",
       "    </tr>\n",
       "    <tr>\n",
       "      <th>57519</th>\n",
       "      <td>0.200000</td>\n",
       "      <td>1.0</td>\n",
       "      <td>0.048544</td>\n",
       "      <td>50.101667</td>\n",
       "      <td>21.0</td>\n",
       "      <td>0.038462</td>\n",
       "      <td>0.9510</td>\n",
       "      <td>0.192308</td>\n",
       "      <td>0.778846</td>\n",
       "      <td>8.344666</td>\n",
       "      <td>...</td>\n",
       "      <td>0.951923</td>\n",
       "      <td>0.971154</td>\n",
       "      <td>-0.816667</td>\n",
       "      <td>0.500000</td>\n",
       "      <td>0.077670</td>\n",
       "      <td>0.126214</td>\n",
       "      <td>0.230769</td>\n",
       "      <td>0.221154</td>\n",
       "      <td>0.269231</td>\n",
       "      <td>0</td>\n",
       "    </tr>\n",
       "    <tr>\n",
       "      <th>57520</th>\n",
       "      <td>0.461538</td>\n",
       "      <td>1.0</td>\n",
       "      <td>0.066667</td>\n",
       "      <td>55.985185</td>\n",
       "      <td>84.0</td>\n",
       "      <td>0.005525</td>\n",
       "      <td>1.0046</td>\n",
       "      <td>0.629834</td>\n",
       "      <td>0.690608</td>\n",
       "      <td>3.925598</td>\n",
       "      <td>...</td>\n",
       "      <td>0.994475</td>\n",
       "      <td>1.000000</td>\n",
       "      <td>0.048148</td>\n",
       "      <td>0.558011</td>\n",
       "      <td>0.138889</td>\n",
       "      <td>0.050000</td>\n",
       "      <td>0.292818</td>\n",
       "      <td>0.232044</td>\n",
       "      <td>0.292818</td>\n",
       "      <td>0</td>\n",
       "    </tr>\n",
       "    <tr>\n",
       "      <th>57521</th>\n",
       "      <td>0.253125</td>\n",
       "      <td>1.0</td>\n",
       "      <td>0.044025</td>\n",
       "      <td>98.788462</td>\n",
       "      <td>81.0</td>\n",
       "      <td>0.012539</td>\n",
       "      <td>0.9168</td>\n",
       "      <td>0.438871</td>\n",
       "      <td>0.699060</td>\n",
       "      <td>12.004700</td>\n",
       "      <td>...</td>\n",
       "      <td>0.987461</td>\n",
       "      <td>0.996865</td>\n",
       "      <td>-0.438462</td>\n",
       "      <td>0.561129</td>\n",
       "      <td>0.125786</td>\n",
       "      <td>0.100629</td>\n",
       "      <td>0.231975</td>\n",
       "      <td>0.216301</td>\n",
       "      <td>0.253918</td>\n",
       "      <td>0</td>\n",
       "    </tr>\n",
       "    <tr>\n",
       "      <th>57522</th>\n",
       "      <td>0.382550</td>\n",
       "      <td>1.0</td>\n",
       "      <td>0.054422</td>\n",
       "      <td>112.877778</td>\n",
       "      <td>57.0</td>\n",
       "      <td>0.006757</td>\n",
       "      <td>0.5492</td>\n",
       "      <td>0.472973</td>\n",
       "      <td>0.797297</td>\n",
       "      <td>8.000305</td>\n",
       "      <td>...</td>\n",
       "      <td>0.891892</td>\n",
       "      <td>1.000000</td>\n",
       "      <td>-0.138889</td>\n",
       "      <td>0.513514</td>\n",
       "      <td>0.156463</td>\n",
       "      <td>0.095238</td>\n",
       "      <td>0.270270</td>\n",
       "      <td>0.263514</td>\n",
       "      <td>0.277027</td>\n",
       "      <td>0</td>\n",
       "    </tr>\n",
       "  </tbody>\n",
       "</table>\n",
       "<p>57523 rows × 39 columns</p>\n",
       "</div>"
      ],
      "text/plain": [
       "            #ID  ORF-integrity  ORF-coverage  Instability      T2        C0  \\\n",
       "0      0.162071            1.0      0.114583    56.694764   576.0  0.000281   \n",
       "1      0.431156            1.0      0.086155    41.790444  1287.0  0.002011   \n",
       "2      0.874798            1.0      0.081715    40.573639  1083.0  0.004850   \n",
       "3      0.853372            1.0      0.081498    41.800543  1164.0  0.004402   \n",
       "4      0.789583            1.0      0.080668    42.827804  1137.0  0.004170   \n",
       "...         ...            ...           ...          ...     ...       ...   \n",
       "57518  0.000000            0.0      0.064516     0.000000     0.0  0.042553   \n",
       "57519  0.200000            1.0      0.048544    50.101667    21.0  0.038462   \n",
       "57520  0.461538            1.0      0.066667    55.985185    84.0  0.005525   \n",
       "57521  0.253125            1.0      0.044025    98.788462    81.0  0.012539   \n",
       "57522  0.382550            1.0      0.054422   112.877778    57.0  0.006757   \n",
       "\n",
       "           PI  ORF-length        AC         T0  ...        C4        AG  \\\n",
       "0      0.5279    0.369828  0.700535   7.877136  ...  0.993808  0.995215   \n",
       "1      0.5395    0.471515  0.717828   8.553284  ...  0.997654  0.998324   \n",
       "2      0.9489    0.427648  0.752627   8.643616  ...  0.995150  0.988682   \n",
       "3      0.9297    0.468819  0.765957   8.255188  ...  1.000000  0.994864   \n",
       "4      0.8437    0.468381  0.762335   8.588196  ...  1.000000  0.995136   \n",
       "...       ...         ...       ...        ...  ...       ...       ...   \n",
       "57518  0.7840    0.585106  0.765957   0.000000  ...  0.925532  0.957447   \n",
       "57519  0.9510    0.192308  0.778846   8.344666  ...  0.951923  0.971154   \n",
       "57520  1.0046    0.629834  0.690608   3.925598  ...  0.994475  1.000000   \n",
       "57521  0.9168    0.438871  0.699060  12.004700  ...  0.987461  0.996865   \n",
       "57522  0.5492    0.472973  0.797297   8.000305  ...  0.891892  1.000000   \n",
       "\n",
       "        Fickett        A2        T4         C         G         A         T  \\\n",
       "0     -0.704188  0.613566  0.152590  0.107545  0.353223  0.247959  0.244019   \n",
       "1      0.368458  0.520107  0.115320  0.088166  0.232239  0.210456  0.262064   \n",
       "2      0.496667  0.482619  0.100324  0.111650  0.243331  0.219887  0.247373   \n",
       "3      0.393540  0.442406  0.110866  0.107930  0.222304  0.225238  0.256787   \n",
       "4      0.525661  0.455177  0.109179  0.104312  0.223767  0.220987  0.261293   \n",
       "...         ...       ...       ...       ...       ...       ...       ...   \n",
       "57518  0.000000  0.457447  0.064516  0.086022  0.255319  0.138298  0.255319   \n",
       "57519 -0.816667  0.500000  0.077670  0.126214  0.230769  0.221154  0.269231   \n",
       "57520  0.048148  0.558011  0.138889  0.050000  0.292818  0.232044  0.292818   \n",
       "57521 -0.438462  0.561129  0.125786  0.100629  0.231975  0.216301  0.253918   \n",
       "57522 -0.138889  0.513514  0.156463  0.095238  0.270270  0.263514  0.277027   \n",
       "\n",
       "       label  \n",
       "0          1  \n",
       "1          1  \n",
       "2          1  \n",
       "3          1  \n",
       "4          1  \n",
       "...      ...  \n",
       "57518      0  \n",
       "57519      0  \n",
       "57520      0  \n",
       "57521      0  \n",
       "57522      0  \n",
       "\n",
       "[57523 rows x 39 columns]"
      ]
     },
     "execution_count": 2,
     "metadata": {},
     "output_type": "execute_result"
    }
   ],
   "source": [
    "df = pd.read_csv(\"coding_potential.csv\") \n",
    "df"
   ]
  },
  {
   "cell_type": "markdown",
   "metadata": {},
   "source": [
    "<h4>1. How many rows and columns does the coding potential.csv have?</h4>\n",
    "57523 rows, 39 columns"
   ]
  },
  {
   "cell_type": "code",
   "execution_count": 3,
   "metadata": {},
   "outputs": [],
   "source": [
    "X = np.array(df.iloc[:, :-1].values)  \n",
    "y = np.array(df.iloc[:, -1].values) "
   ]
  },
  {
   "cell_type": "markdown",
   "metadata": {},
   "source": [
    "<h2>Split the data into train and test sets</h2>"
   ]
  },
  {
   "cell_type": "code",
   "execution_count": 4,
   "metadata": {},
   "outputs": [],
   "source": [
    "from sklearn.model_selection import train_test_split\n",
    "X_train,X_test,y_train,y_test = train_test_split(X, y)"
   ]
  },
  {
   "cell_type": "code",
   "execution_count": 5,
   "metadata": {},
   "outputs": [
    {
     "name": "stdout",
     "output_type": "stream",
     "text": [
      "(43142, 38)\n",
      "(43142,)\n",
      "(14381, 38)\n",
      "(14381,)\n"
     ]
    }
   ],
   "source": [
    "print(np.shape(X_train))\n",
    "print(np.shape(y_train))\n",
    "print(np.shape(X_test))\n",
    "print(np.shape(y_test))"
   ]
  },
  {
   "cell_type": "markdown",
   "metadata": {},
   "source": [
    "<h4>2. When you split the data into segments, how many samples (rows) are in the training and test data?</h4>\n",
    "There are 43142 rows in the training data. There are 14381 rows in the test data."
   ]
  },
  {
   "cell_type": "markdown",
   "metadata": {},
   "source": [
    "<h2>Train a random forest model</h2>"
   ]
  },
  {
   "cell_type": "code",
   "execution_count": 20,
   "metadata": {},
   "outputs": [
    {
     "data": {
      "text/plain": [
       "RandomForestClassifier(bootstrap=True, ccp_alpha=0.0, class_weight=None,\n",
       "                       criterion='gini', max_depth=None, max_features='auto',\n",
       "                       max_leaf_nodes=None, max_samples=None,\n",
       "                       min_impurity_decrease=0.0, min_impurity_split=None,\n",
       "                       min_samples_leaf=1, min_samples_split=2,\n",
       "                       min_weight_fraction_leaf=0.0, n_estimators=100,\n",
       "                       n_jobs=None, oob_score=False, random_state=None,\n",
       "                       verbose=0, warm_start=False)"
      ]
     },
     "execution_count": 20,
     "metadata": {},
     "output_type": "execute_result"
    }
   ],
   "source": [
    "from sklearn.ensemble import RandomForestClassifier\n",
    "clf=RandomForestClassifier()\n",
    "clf.fit(X_train,y_train)"
   ]
  },
  {
   "cell_type": "markdown",
   "metadata": {},
   "source": [
    "<h2>Evaluate the model</h2>"
   ]
  },
  {
   "cell_type": "markdown",
   "metadata": {},
   "source": [
    "<h2>Predicting train set results</h2>"
   ]
  },
  {
   "cell_type": "code",
   "execution_count": 21,
   "metadata": {},
   "outputs": [],
   "source": [
    "ypred_train=clf.predict(X_train)"
   ]
  },
  {
   "cell_type": "markdown",
   "metadata": {},
   "source": [
    "<h2>Confusion Matrix</h2>"
   ]
  },
  {
   "cell_type": "code",
   "execution_count": 22,
   "metadata": {},
   "outputs": [
    {
     "name": "stdout",
     "output_type": "stream",
     "text": [
      "Train Confusion Matrix:\n",
      "[[18174     3]\n",
      " [    4 24961]]\n"
     ]
    }
   ],
   "source": [
    "from sklearn.metrics import confusion_matrix\n",
    "print(\"Train Confusion Matrix:\")\n",
    "print(confusion_matrix(y_train, ypred_train))"
   ]
  },
  {
   "cell_type": "markdown",
   "metadata": {},
   "source": [
    "<h2>Classification Report</h2>"
   ]
  },
  {
   "cell_type": "code",
   "execution_count": 23,
   "metadata": {},
   "outputs": [
    {
     "name": "stdout",
     "output_type": "stream",
     "text": [
      "Train Classification Report:\n",
      "              precision    recall  f1-score   support\n",
      "\n",
      "           0       1.00      1.00      1.00     18177\n",
      "           1       1.00      1.00      1.00     24965\n",
      "\n",
      "    accuracy                           1.00     43142\n",
      "   macro avg       1.00      1.00      1.00     43142\n",
      "weighted avg       1.00      1.00      1.00     43142\n",
      "\n"
     ]
    }
   ],
   "source": [
    "from sklearn.metrics import classification_report\n",
    "print(\"Train Classification Report:\")\n",
    "print(classification_report(y_train, ypred_train))"
   ]
  },
  {
   "cell_type": "markdown",
   "metadata": {},
   "source": [
    "<h4>3. Report the confusion matrices and classification reports for the training data.</h4>\n",
    "In training data, we have the precision 1.00 and recall 1.00. The model predicts very well. The f1-score is 1.00, which is the best value. As we look at the confusion matrix, there are 3 False Positives and 4 False Negatives. We conclude that the accuracy is very high. "
   ]
  },
  {
   "cell_type": "markdown",
   "metadata": {},
   "source": [
    "<h2>Predicting test set results</h2>"
   ]
  },
  {
   "cell_type": "code",
   "execution_count": 24,
   "metadata": {},
   "outputs": [],
   "source": [
    "ypred_test=clf.predict(X_test)"
   ]
  },
  {
   "cell_type": "markdown",
   "metadata": {},
   "source": [
    "<h2>Confusion Matrix</h2>"
   ]
  },
  {
   "cell_type": "code",
   "execution_count": 25,
   "metadata": {},
   "outputs": [
    {
     "name": "stdout",
     "output_type": "stream",
     "text": [
      "Test Confusion Matrix:\n",
      "[[5854  132]\n",
      " [ 160 8235]]\n"
     ]
    }
   ],
   "source": [
    "from sklearn.metrics import confusion_matrix\n",
    "print(\"Test Confusion Matrix:\")\n",
    "print(confusion_matrix(y_test, ypred_test))"
   ]
  },
  {
   "cell_type": "markdown",
   "metadata": {},
   "source": [
    "<h2>Classification Report</h2>"
   ]
  },
  {
   "cell_type": "code",
   "execution_count": 28,
   "metadata": {},
   "outputs": [
    {
     "name": "stdout",
     "output_type": "stream",
     "text": [
      "Test Classification Report:\n",
      "              precision    recall  f1-score   support\n",
      "\n",
      "           0       0.97      0.98      0.98      5986\n",
      "           1       0.98      0.98      0.98      8395\n",
      "\n",
      "    accuracy                           0.98     14381\n",
      "   macro avg       0.98      0.98      0.98     14381\n",
      "weighted avg       0.98      0.98      0.98     14381\n",
      "\n"
     ]
    }
   ],
   "source": [
    "from sklearn.metrics import classification_report\n",
    "print(\"Test Classification Report:\")\n",
    "print(classification_report(y_test, ypred_test))"
   ]
  },
  {
   "cell_type": "markdown",
   "metadata": {},
   "source": [
    "<h4>3. Report the confusion matrices and classification reports for the test data.</h4>\n",
    "In test data, we have the precision 0.97 and recall 0.98. The model predicts good. The f1-score is 0.98, which is very close to 1. As we look at the confusion matrix, there are 132 False Positives and 160 False Negatives. We conclude that the model predicts good but the model performs better when predicting the trainig data, since The precision, recall and f1-score of the training data is higher than the test data's corresponding precision, recall and f1-score."
   ]
  },
  {
   "cell_type": "markdown",
   "metadata": {},
   "source": [
    "<h4>4. Explain what the confusion matrix describes.</h4>\n",
    "A confusion matrix is a table, which describes the performance of a classification model on a set of training or test data for which the true values are known. Confusion matrix shows the number of True Positives, False Positives(The system predicted true but the value was false), False Negatives(The system predicted false but the value was true) and True Negatives."
   ]
  },
  {
   "cell_type": "markdown",
   "metadata": {},
   "source": [
    "<h4>5. What are precision, recall and F1-score?</h4>\n",
    "Precision is the percentage of the items that the system labeled as positive and that are in fact positive. It is equal to True Positive/(True Positive+False Positive). Recall or sensitivity is the percentage of the items actually present in the input that were correctly identified by the system. It is equal to True Positive/(True Positive+False Negative). F-measure can be weighted to favor Precision or Recall. It is equal to ((1+B^2)PR)/((B^2)P+R). 𝛽 = 1 is the F1-measure."
   ]
  },
  {
   "cell_type": "markdown",
   "metadata": {},
   "source": [
    "<h4>6. Does the classifier perform better when predicting the training data or the test data targets?</h4>\n",
    "The classifier performs better when predicting the training data."
   ]
  },
  {
   "cell_type": "markdown",
   "metadata": {},
   "source": [
    "<h4>7. Why is there a difference between the training and test prediction accuracies?</h4>\n",
    "Because the test data is never seen before by the model until the prediction process. The model was trained by the training data, therefore the model is used to the training data and the training data's accuracy is higher than the test data's accuracy. The model models the training data too well, therefore overfitting occurs."
   ]
  }
 ],
 "metadata": {
  "kernelspec": {
   "display_name": "Python 3",
   "language": "python",
   "name": "python3"
  },
  "language_info": {
   "codemirror_mode": {
    "name": "ipython",
    "version": 3
   },
   "file_extension": ".py",
   "mimetype": "text/x-python",
   "name": "python",
   "nbconvert_exporter": "python",
   "pygments_lexer": "ipython3",
   "version": "3.7.6"
  }
 },
 "nbformat": 4,
 "nbformat_minor": 4
}
